{
 "cells": [
  {
   "cell_type": "code",
   "execution_count": 29,
   "metadata": {},
   "outputs": [
    {
     "name": "stderr",
     "output_type": "stream",
     "text": [
      "C:\\Users\\usmanzafar\\Anaconda3\\lib\\site-packages\\IPython\\core\\interactiveshell.py:2717: DtypeWarning: Columns (0,1,2,3,4,5,6,7,10,11,16,17,20,21,22,25,26,27,28,29,30,31,32,33,34,35,36,37,48,50,51,52,55,56,57,58,59,60,61,63,64,65,66,68,69,70,71,72,73,74,77,79,80,81,82,84,86,87,88,89,90,91,92,93,100,101,103,105,106,107,108,109,110,111,112,113,114,117,118,119,120,121,122,123,124,125,126,127,128,129,130,131,132,133,134,135,136,137,138,139,140,141,142,143,144,145,146,147,148,149,150,153) have mixed types. Specify dtype option on import or set low_memory=False.\n",
      "  interactivity=interactivity, compiler=compiler, result=result)\n"
     ]
    },
    {
     "name": "stdout",
     "output_type": "stream",
     "text": [
      "(205533, 16)\n"
     ]
    }
   ],
   "source": [
    "# Reading the visa applications data \n",
    "import pandas as pd\n",
    "visas = pd.read_csv('C:\\\\Users\\\\usmanzafar\\\\Desktop\\\\data mining datasets\\\\US permanent visaas\\\\us_perm_visas.csv')\n",
    "visas.head()\n",
    "visas = visas.loc[:, pd.notnull(visas).sum()>len(visas)*.94]\n",
    "print(visas.shape)"
   ]
  },
  {
   "cell_type": "code",
   "execution_count": 2,
   "metadata": {},
   "outputs": [
    {
     "name": "stdout",
     "output_type": "stream",
     "text": [
      "<class 'pandas.core.frame.DataFrame'>\n",
      "RangeIndex: 205533 entries, 0 to 205532\n",
      "Columns: 154 entries, add_these_pw_job_title_9089 to wage_offered_unit_of_pay_9089\n",
      "dtypes: float64(26), object(128)\n",
      "memory usage: 241.5+ MB\n"
     ]
    }
   ],
   "source": [
    "import numpy as np # linear algebra\n",
    "import pandas as pd # data processing, CSV file I/O (e.g. pd.read_csv)\n",
    "import matplotlib.pyplot as plt\n",
    "%matplotlib inline\n",
    "\n",
    "# Input data files are available in the \"../input/\" directory.\n",
    "from subprocess import check_output\n",
    "visas.info()"
   ]
  },
  {
   "cell_type": "code",
   "execution_count": 3,
   "metadata": {},
   "outputs": [
    {
     "name": "stdout",
     "output_type": "stream",
     "text": [
      "Number of Enteries 205533\n",
      "Number of columns  154\n"
     ]
    }
   ],
   "source": [
    "print ('Number of Enteries', len(visas))\n",
    "print ('Number of columns ', len(visas.columns))"
   ]
  },
  {
   "cell_type": "markdown",
   "metadata": {},
   "source": [
    "sum (len.count ()< 150000)"
   ]
  },
  {
   "cell_type": "code",
   "execution_count": 4,
   "metadata": {},
   "outputs": [
    {
     "data": {
      "text/plain": [
       "136"
      ]
     },
     "execution_count": 4,
     "metadata": {},
     "output_type": "execute_result"
    }
   ],
   "source": [
    "visas.shape\n",
    "sum (visas.count ()< 150000)\n"
   ]
  },
  {
   "cell_type": "code",
   "execution_count": 24,
   "metadata": {},
   "outputs": [
    {
     "name": "stdout",
     "output_type": "stream",
     "text": [
      "(205533, 15)\n"
     ]
    }
   ],
   "source": [
    "# Drop mostly empty/null columns:\n",
    "visas = visas.loc[:, pd.notnull(visas).sum()>len(visas)*.93]\n",
    "print(visas.shape)\n",
    "visas.to_csv('C:\\\\Users\\\\uzaf2\\\\Desktop\\\\mostfine.csv',index=False, encoding = 'utf-8')"
   ]
  },
  {
   "cell_type": "code",
   "execution_count": 15,
   "metadata": {},
   "outputs": [
    {
     "data": {
      "text/plain": [
       "NEW YORK           10067\n",
       "SANTA CLARA         6450\n",
       "COLLEGE STATION     6196\n",
       "SAN JOSE            5424\n",
       "REDMOND             4756\n",
       "HOUSTON             4293\n",
       "MOUNTAIN VIEW       3937\n",
       "SUNNYVALE           3306\n",
       "SAN FRANCISCO       3210\n",
       "CHICAGO             3045\n",
       "PLANO               2855\n",
       "SAN DIEGO           2719\n",
       "EDISON              2382\n",
       "SEATTLE             2372\n",
       "LOS ANGELES         2343\n",
       "DALLAS              2294\n",
       "IRVING              1878\n",
       "PHILADELPHIA        1828\n",
       "CUPERTINO           1713\n",
       "ATLANTA             1712\n",
       "Name: employer_city, dtype: int64"
      ]
     },
     "execution_count": 15,
     "metadata": {},
     "output_type": "execute_result"
    }
   ],
   "source": [
    "visas['employer_city'].value_counts().head(20)"
   ]
  },
  {
   "cell_type": "code",
   "execution_count": 16,
   "metadata": {},
   "outputs": [
    {
     "data": {
      "text/plain": [
       "<matplotlib.axes._subplots.AxesSubplot at 0x2610097d0f0>"
      ]
     },
     "execution_count": 16,
     "metadata": {},
     "output_type": "execute_result"
    },
    {
     "data": {
      "image/png": "[encoded data removed]",
      "text/plain": [
       "<matplotlib.figure.Figure at 0x2610096cfd0>"
      ]
     },
     "metadata": {},
     "output_type": "display_data"
    }
   ],
   "source": [
    "visas['employer_city'].value_counts().head(10).plot(kind='bar')"
   ]
  },
  {
   "cell_type": "code",
   "execution_count": 17,
   "metadata": {},
   "outputs": [
    {
     "data": {
      "text/plain": [
       "COGNIZANT TECHNOLOGY SOLUTIONS US CORPORATION    6189\n",
       "MICROSOFT CORPORATION                            4527\n",
       "INTEL CORPORATION                                3904\n",
       "GOOGLE INC.                                      2580\n",
       "AMAZON CORPORATE LLC                             1657\n",
       "ORACLE AMERICA, INC.                             1522\n",
       "CISCO SYSTEMS, INC.                              1426\n",
       "QUALCOMM TECHNOLOGIES INC.                       1356\n",
       "APPLE INC.                                       1251\n",
       "INFOSYS LTD.                                     1146\n",
       "ERNST & YOUNG U.S. LLP                            822\n",
       "DELOITTE CONSULTING LLP                           805\n",
       "FACEBOOK, INC.                                    689\n",
       "IBM CORPORATION                                   645\n",
       "HCL AMERICA INC.                                  643\n",
       "BROADCOM CORPORATION                              636\n",
       "YAHOO! INC.                                       627\n",
       "EBAY INC.                                         584\n",
       "KFORCE INC.                                       490\n",
       "PRICEWATERHOUSECOOPERS                            488\n",
       "Name: employer_name, dtype: int64"
      ]
     },
     "execution_count": 17,
     "metadata": {},
     "output_type": "execute_result"
    }
   ],
   "source": [
    "visas['employer_name'].value_counts().head(20)"
   ]
  },
  {
   "cell_type": "code",
   "execution_count": 18,
   "metadata": {},
   "outputs": [
    {
     "data": {
      "text/plain": [
       "Certified            91916\n",
       "Certified-Expired    85498\n",
       "Denied               17215\n",
       "Withdrawn            10904\n",
       "Name: case_status, dtype: int64"
      ]
     },
     "execution_count": 18,
     "metadata": {},
     "output_type": "execute_result"
    }
   ],
   "source": [
    "visas['case_status'].value_counts()"
   ]
  },
  {
   "cell_type": "code",
   "execution_count": 19,
   "metadata": {},
   "outputs": [
    {
     "data": {
      "text/plain": [
       "Index(['application_type', 'case_no', 'case_status', 'class_of_admission',\n",
       "       'country_of_citizenship', 'decision_date', 'employer_address_1',\n",
       "       'employer_city', 'employer_name', 'employer_postal_code',\n",
       "       'employer_state', 'job_info_work_city', 'job_info_work_state',\n",
       "       'naics_us_code_2007', 'naics_us_title_2007', 'pw_amount_9089',\n",
       "       'pw_job_title_9089', 'pw_level_9089', 'pw_soc_code', 'pw_soc_title',\n",
       "       'pw_source_name_9089', 'pw_unit_of_pay_9089', 'us_economic_sector',\n",
       "       'wage_offer_from_9089', 'wage_offer_unit_of_pay_9089',\n",
       "       'wage_offered_from_9089'],\n",
       "      dtype='object')"
      ]
     },
     "execution_count": 19,
     "metadata": {},
     "output_type": "execute_result"
    }
   ],
   "source": [
    "visas.columns"
   ]
  },
  {
   "cell_type": "code",
   "execution_count": 20,
   "metadata": {},
   "outputs": [
    {
     "data": {
      "text/plain": [
       "ONLINE      112564\n",
       "PERM         20576\n",
       "MAILEDIN      2129\n",
       "Name: application_type, dtype: int64"
      ]
     },
     "execution_count": 20,
     "metadata": {},
     "output_type": "execute_result"
    }
   ],
   "source": [
    "visas['application_type'].value_counts()"
   ]
  },
  {
   "cell_type": "code",
   "execution_count": 21,
   "metadata": {},
   "outputs": [
    {
     "data": {
      "text/plain": [
       "<matplotlib.axes._subplots.AxesSubplot at 0x2610096c978>"
      ]
     },
     "execution_count": 21,
     "metadata": {},
     "output_type": "execute_result"
    },
    {
     "data": {
      "image/png": "[encoded data removed]",
      "text/plain": [
       "<matplotlib.figure.Figure at 0x261012a3ba8>"
      ]
     },
     "metadata": {},
     "output_type": "display_data"
    }
   ],
   "source": [
    "visas['application_type'].value_counts().plot(kind='bar')"
   ]
  },
  {
   "cell_type": "code",
   "execution_count": 6,
   "metadata": {},
   "outputs": [
    {
     "data": {
      "text/plain": [
       "<matplotlib.axes._subplots.AxesSubplot at 0x1ba0423ff98>"
      ]
     },
     "execution_count": 6,
     "metadata": {},
     "output_type": "execute_result"
    },
    {
     "data": {
      "image/png": "[encoded data removed]",
      "text/plain": [
       "<matplotlib.figure.Figure at 0x1ba041fa9b0>"
      ]
     },
     "metadata": {},
     "output_type": "display_data"
    }
   ],
   "source": [
    "\n",
    "visas['country_of_citizenship'].value_counts().head(10).plot(kind='bar')"
   ]
  },
  {
   "cell_type": "code",
   "execution_count": 11,
   "metadata": {},
   "outputs": [
    {
     "name": "stderr",
     "output_type": "stream",
     "text": [
      "C:\\Users\\usmanzafar\\Anaconda3\\lib\\site-packages\\IPython\\core\\interactiveshell.py:2717: DtypeWarning: Columns (0,1,13,14,15,22,23,24) have mixed types. Specify dtype option on import or set low_memory=False.\n",
      "  interactivity=interactivity, compiler=compiler, result=result)\n"
     ]
    },
    {
     "data": {
      "text/html": [
       "<div>\n",
       "<style>\n",
       "    .dataframe thead tr:only-child th {\n",
       "        text-align: right;\n",
       "    }\n",
       "\n",
       "    .dataframe thead th {\n",
       "        text-align: left;\n",
       "    }\n",
       "\n",
       "    .dataframe tbody tr th {\n",
       "        vertical-align: top;\n",
       "    }\n",
       "</style>\n",
       "<table border=\"1\" class=\"dataframe\">\n",
       "  <thead>\n",
       "    <tr style=\"text-align: right;\">\n",
       "      <th></th>\n",
       "      <th>application_type</th>\n",
       "      <th>case_no</th>\n",
       "      <th>case_status</th>\n",
       "      <th>class_of_admission</th>\n",
       "      <th>country_of_citizenship</th>\n",
       "      <th>decision_date</th>\n",
       "      <th>employer_address_1</th>\n",
       "      <th>employer_city</th>\n",
       "      <th>employer_name</th>\n",
       "      <th>employer_postal_code</th>\n",
       "      <th>...</th>\n",
       "      <th>pw_job_title_9089</th>\n",
       "      <th>pw_level_9089</th>\n",
       "      <th>pw_soc_code</th>\n",
       "      <th>pw_soc_title</th>\n",
       "      <th>pw_source_name_9089</th>\n",
       "      <th>pw_unit_of_pay_9089</th>\n",
       "      <th>us_economic_sector</th>\n",
       "      <th>wage_offer_from_9089</th>\n",
       "      <th>wage_offer_unit_of_pay_9089</th>\n",
       "      <th>wage_offered_from_9089</th>\n",
       "    </tr>\n",
       "  </thead>\n",
       "  <tbody>\n",
       "    <tr>\n",
       "      <th>0</th>\n",
       "      <td>PERM</td>\n",
       "      <td>A-07323-97014</td>\n",
       "      <td>Certified</td>\n",
       "      <td>J-1</td>\n",
       "      <td>NaN</td>\n",
       "      <td>2012-02-01</td>\n",
       "      <td>24 WEST 25 STREET</td>\n",
       "      <td>NEW YORK</td>\n",
       "      <td>NETSOFT USA INC.</td>\n",
       "      <td>10010.0</td>\n",
       "      <td>...</td>\n",
       "      <td>Computer Software Engineers, Applications</td>\n",
       "      <td>Level II</td>\n",
       "      <td>15-1031.00</td>\n",
       "      <td>Computer Software Engineers, Applications</td>\n",
       "      <td>OES</td>\n",
       "      <td>yr</td>\n",
       "      <td>IT</td>\n",
       "      <td>75629</td>\n",
       "      <td>yr</td>\n",
       "      <td>NaN</td>\n",
       "    </tr>\n",
       "    <tr>\n",
       "      <th>1</th>\n",
       "      <td>PERM</td>\n",
       "      <td>A-07332-99439</td>\n",
       "      <td>Denied</td>\n",
       "      <td>B-2</td>\n",
       "      <td>NaN</td>\n",
       "      <td>2011-12-21</td>\n",
       "      <td>200 BROAD STREET</td>\n",
       "      <td>CARLSTADT</td>\n",
       "      <td>PINNACLE ENVIRONEMNTAL CORP</td>\n",
       "      <td>7072.0</td>\n",
       "      <td>...</td>\n",
       "      <td>ASBESTOS HANDLER</td>\n",
       "      <td>Level I</td>\n",
       "      <td>47-4041.00</td>\n",
       "      <td>Hazardous Materials Removal Workers</td>\n",
       "      <td>OES</td>\n",
       "      <td>yr</td>\n",
       "      <td>Other Economic Sector</td>\n",
       "      <td>37024</td>\n",
       "      <td>yr</td>\n",
       "      <td>NaN</td>\n",
       "    </tr>\n",
       "    <tr>\n",
       "      <th>2</th>\n",
       "      <td>PERM</td>\n",
       "      <td>A-07333-99643</td>\n",
       "      <td>Certified</td>\n",
       "      <td>H-1B</td>\n",
       "      <td>NaN</td>\n",
       "      <td>2011-12-01</td>\n",
       "      <td>1054 TECHNOLOGY PARK DRIVE</td>\n",
       "      <td>GLEN ALLEN</td>\n",
       "      <td>SCHNABEL ENGINEERING, INC.</td>\n",
       "      <td>23059.0</td>\n",
       "      <td>...</td>\n",
       "      <td>Civil Engineer</td>\n",
       "      <td>Level I</td>\n",
       "      <td>17-2051.00</td>\n",
       "      <td>Civil Engineers</td>\n",
       "      <td>OES</td>\n",
       "      <td>yr</td>\n",
       "      <td>Aerospace</td>\n",
       "      <td>47923</td>\n",
       "      <td>yr</td>\n",
       "      <td>NaN</td>\n",
       "    </tr>\n",
       "    <tr>\n",
       "      <th>3</th>\n",
       "      <td>PERM</td>\n",
       "      <td>A-07339-01930</td>\n",
       "      <td>Certified</td>\n",
       "      <td>B-2</td>\n",
       "      <td>NaN</td>\n",
       "      <td>2011-12-01</td>\n",
       "      <td>33-17 PRINCE ST. 2ND FL</td>\n",
       "      <td>FLUSHING</td>\n",
       "      <td>EBENEZER MISSION CHURCH</td>\n",
       "      <td>11354.0</td>\n",
       "      <td>...</td>\n",
       "      <td>File Clerk</td>\n",
       "      <td>Level II</td>\n",
       "      <td>43-4071.00</td>\n",
       "      <td>File Clerks</td>\n",
       "      <td>OES</td>\n",
       "      <td>hr</td>\n",
       "      <td>Other Economic Sector</td>\n",
       "      <td>10.97</td>\n",
       "      <td>hr</td>\n",
       "      <td>NaN</td>\n",
       "    </tr>\n",
       "    <tr>\n",
       "      <th>4</th>\n",
       "      <td>PERM</td>\n",
       "      <td>A-07345-03565</td>\n",
       "      <td>Certified</td>\n",
       "      <td>L-1</td>\n",
       "      <td>NaN</td>\n",
       "      <td>2012-01-26</td>\n",
       "      <td>1373 BROADWAY</td>\n",
       "      <td>ALBANY</td>\n",
       "      <td>ALBANY INTERNATIONAL CORP.</td>\n",
       "      <td>12204.0</td>\n",
       "      <td>...</td>\n",
       "      <td>Sales &amp; Service Engineer</td>\n",
       "      <td>Level IV</td>\n",
       "      <td>41-9031.00</td>\n",
       "      <td>Sales Engineers</td>\n",
       "      <td>OES</td>\n",
       "      <td>yr</td>\n",
       "      <td>Advanced Mfg</td>\n",
       "      <td>100000</td>\n",
       "      <td>yr</td>\n",
       "      <td>NaN</td>\n",
       "    </tr>\n",
       "  </tbody>\n",
       "</table>\n",
       "<p>5 rows × 26 columns</p>\n",
       "</div>"
      ],
      "text/plain": [
       "  application_type        case_no case_status class_of_admission  \\\n",
       "0             PERM  A-07323-97014   Certified                J-1   \n",
       "1             PERM  A-07332-99439      Denied                B-2   \n",
       "2             PERM  A-07333-99643   Certified               H-1B   \n",
       "3             PERM  A-07339-01930   Certified                B-2   \n",
       "4             PERM  A-07345-03565   Certified                L-1   \n",
       "\n",
       "  country_of_citizenship decision_date          employer_address_1  \\\n",
       "0                    NaN    2012-02-01           24 WEST 25 STREET   \n",
       "1                    NaN    2011-12-21            200 BROAD STREET   \n",
       "2                    NaN    2011-12-01  1054 TECHNOLOGY PARK DRIVE   \n",
       "3                    NaN    2011-12-01     33-17 PRINCE ST. 2ND FL   \n",
       "4                    NaN    2012-01-26               1373 BROADWAY   \n",
       "\n",
       "  employer_city                employer_name employer_postal_code  \\\n",
       "0      NEW YORK             NETSOFT USA INC.              10010.0   \n",
       "1     CARLSTADT  PINNACLE ENVIRONEMNTAL CORP               7072.0   \n",
       "2    GLEN ALLEN   SCHNABEL ENGINEERING, INC.              23059.0   \n",
       "3      FLUSHING      EBENEZER MISSION CHURCH              11354.0   \n",
       "4        ALBANY   ALBANY INTERNATIONAL CORP.              12204.0   \n",
       "\n",
       "           ...                                    pw_job_title_9089  \\\n",
       "0          ...            Computer Software Engineers, Applications   \n",
       "1          ...                                     ASBESTOS HANDLER   \n",
       "2          ...                                       Civil Engineer   \n",
       "3          ...                                           File Clerk   \n",
       "4          ...                             Sales & Service Engineer   \n",
       "\n",
       "  pw_level_9089 pw_soc_code                               pw_soc_title  \\\n",
       "0      Level II  15-1031.00  Computer Software Engineers, Applications   \n",
       "1       Level I  47-4041.00        Hazardous Materials Removal Workers   \n",
       "2       Level I  17-2051.00                            Civil Engineers   \n",
       "3      Level II  43-4071.00                                File Clerks   \n",
       "4      Level IV  41-9031.00                            Sales Engineers   \n",
       "\n",
       "  pw_source_name_9089 pw_unit_of_pay_9089     us_economic_sector  \\\n",
       "0                 OES                  yr                     IT   \n",
       "1                 OES                  yr  Other Economic Sector   \n",
       "2                 OES                  yr              Aerospace   \n",
       "3                 OES                  hr  Other Economic Sector   \n",
       "4                 OES                  yr           Advanced Mfg   \n",
       "\n",
       "  wage_offer_from_9089 wage_offer_unit_of_pay_9089 wage_offered_from_9089  \n",
       "0                75629                          yr                    NaN  \n",
       "1                37024                          yr                    NaN  \n",
       "2                47923                          yr                    NaN  \n",
       "3                10.97                          hr                    NaN  \n",
       "4               100000                          yr                    NaN  \n",
       "\n",
       "[5 rows x 26 columns]"
      ]
     },
     "execution_count": 11,
     "metadata": {},
     "output_type": "execute_result"
    }
   ],
   "source": [
    "# Reading the csv having only 16 columns data\n",
    "\n",
    "import pandas as pd\n",
    "newVisas = pd.read_csv('C:\\\\Users\\\\uzaf2\\\\Desktop\\\\mostfine.csv')\n",
    "newVisas.head()\n",
    "import pandas as pd\n",
    "visas = pd.read_csv('C:\\\\Users\\\\usmanzafar\\\\Desktop\\\\data mining datasets\\\\US permanent visaas\\\\us_perm_visas.csv')\n",
    "visas.head()\n",
    "visas = visas.loc[:, pd.notnull(visas).sum()>len(visas)*.94]\n",
    "print(visas.shape)"
   ]
  },
  {
   "cell_type": "code",
   "execution_count": 32,
   "metadata": {},
   "outputs": [
    {
     "name": "stderr",
     "output_type": "stream",
     "text": [
      "C:\\Users\\usmanzafar\\Anaconda3\\lib\\site-packages\\IPython\\core\\interactiveshell.py:2717: DtypeWarning: Columns (0,1,2,3,4,5,6,7,10,11,16,17,20,21,22,25,26,27,28,29,30,31,32,33,34,35,36,37,48,50,51,52,55,56,57,58,59,60,61,63,64,65,66,68,69,70,71,72,73,74,77,79,80,81,82,84,86,87,88,89,90,91,92,93,100,101,103,105,106,107,108,109,110,111,112,113,114,117,118,119,120,121,122,123,124,125,126,127,128,129,130,131,132,133,134,135,136,137,138,139,140,141,142,143,144,145,146,147,148,149,150,153) have mixed types. Specify dtype option on import or set low_memory=False.\n",
      "  interactivity=interactivity, compiler=compiler, result=result)\n"
     ]
    }
   ],
   "source": [
    "import pandas as pd\n",
    "visas = pd.read_csv('C:\\\\Users\\\\usmanzafar\\\\Desktop\\\\data mining datasets\\\\US permanent visaas\\\\us_perm_visas.csv')\n",
    "visas.head()\n",
    "visas = visas.loc[:, pd.notnull(visas).sum()>len(visas)*.94]\n",
    "newVisas = visas.dropna(how='any',axis=0)\n",
    "newVisas.to_csv('C:\\\\Users\\\\usmanzafar\\\\Desktop\\\\refinedperm.csv',index=False, encoding = 'utf-8')"
   ]
  },
  {
   "cell_type": "code",
   "execution_count": 33,
   "metadata": {},
   "outputs": [
    {
     "data": {
      "text/plain": [
       "Certified            91916\n",
       "Certified-Expired    85498\n",
       "Denied               17215\n",
       "Withdrawn            10904\n",
       "Name: case_status, dtype: int64"
      ]
     },
     "execution_count": 33,
     "metadata": {},
     "output_type": "execute_result"
    }
   ],
   "source": [
    "visas['case_status'].value_counts()"
   ]
  },
  {
   "cell_type": "code",
   "execution_count": 1,
   "metadata": {},
   "outputs": [
    {
     "name": "stderr",
     "output_type": "stream",
     "text": [
      "C:\\Users\\usmanzafar\\Anaconda3\\lib\\site-packages\\IPython\\core\\interactiveshell.py:2717: DtypeWarning: Columns (10) have mixed types. Specify dtype option on import or set low_memory=False.\n",
      "  interactivity=interactivity, compiler=compiler, result=result)\n"
     ]
    },
    {
     "data": {
      "text/html": [
       "<div>\n",
       "<style>\n",
       "    .dataframe thead tr:only-child th {\n",
       "        text-align: right;\n",
       "    }\n",
       "\n",
       "    .dataframe thead th {\n",
       "        text-align: left;\n",
       "    }\n",
       "\n",
       "    .dataframe tbody tr th {\n",
       "        vertical-align: top;\n",
       "    }\n",
       "</style>\n",
       "<table border=\"1\" class=\"dataframe\">\n",
       "  <thead>\n",
       "    <tr style=\"text-align: right;\">\n",
       "      <th></th>\n",
       "      <th>case_status</th>\n",
       "      <th>class_of_admission</th>\n",
       "      <th>decision_date</th>\n",
       "      <th>employer_address_1</th>\n",
       "      <th>employer_city</th>\n",
       "      <th>employer_name</th>\n",
       "      <th>employer_postal_code</th>\n",
       "      <th>employer_state</th>\n",
       "      <th>job_info_work_city</th>\n",
       "      <th>job_info_work_state</th>\n",
       "      <th>pw_amount_9089</th>\n",
       "      <th>pw_job_title_9089</th>\n",
       "      <th>pw_soc_code</th>\n",
       "      <th>pw_soc_title</th>\n",
       "      <th>pw_source_name_9089</th>\n",
       "      <th>pw_unit_of_pay_9089</th>\n",
       "    </tr>\n",
       "  </thead>\n",
       "  <tbody>\n",
       "    <tr>\n",
       "      <th>0</th>\n",
       "      <td>Certified</td>\n",
       "      <td>J-1</td>\n",
       "      <td>2012-02-01</td>\n",
       "      <td>24 WEST 25 STREET</td>\n",
       "      <td>NEW YORK</td>\n",
       "      <td>NETSOFT USA INC.</td>\n",
       "      <td>10010.0</td>\n",
       "      <td>NY</td>\n",
       "      <td>New York</td>\n",
       "      <td>NY</td>\n",
       "      <td>75629</td>\n",
       "      <td>Computer Software Engineers, Applications</td>\n",
       "      <td>15-1031.00</td>\n",
       "      <td>Computer Software Engineers, Applications</td>\n",
       "      <td>OES</td>\n",
       "      <td>yr</td>\n",
       "    </tr>\n",
       "    <tr>\n",
       "      <th>1</th>\n",
       "      <td>Denied</td>\n",
       "      <td>B-2</td>\n",
       "      <td>2011-12-21</td>\n",
       "      <td>200 BROAD STREET</td>\n",
       "      <td>CARLSTADT</td>\n",
       "      <td>PINNACLE ENVIRONEMNTAL CORP</td>\n",
       "      <td>7072.0</td>\n",
       "      <td>NY</td>\n",
       "      <td>New York</td>\n",
       "      <td>NY</td>\n",
       "      <td>37024</td>\n",
       "      <td>ASBESTOS HANDLER</td>\n",
       "      <td>47-4041.00</td>\n",
       "      <td>Hazardous Materials Removal Workers</td>\n",
       "      <td>OES</td>\n",
       "      <td>yr</td>\n",
       "    </tr>\n",
       "    <tr>\n",
       "      <th>2</th>\n",
       "      <td>Certified</td>\n",
       "      <td>H-1B</td>\n",
       "      <td>2011-12-01</td>\n",
       "      <td>1054 TECHNOLOGY PARK DRIVE</td>\n",
       "      <td>GLEN ALLEN</td>\n",
       "      <td>SCHNABEL ENGINEERING, INC.</td>\n",
       "      <td>23059.0</td>\n",
       "      <td>VA</td>\n",
       "      <td>Lutherville</td>\n",
       "      <td>MD</td>\n",
       "      <td>47923</td>\n",
       "      <td>Civil Engineer</td>\n",
       "      <td>17-2051.00</td>\n",
       "      <td>Civil Engineers</td>\n",
       "      <td>OES</td>\n",
       "      <td>yr</td>\n",
       "    </tr>\n",
       "    <tr>\n",
       "      <th>3</th>\n",
       "      <td>Certified</td>\n",
       "      <td>B-2</td>\n",
       "      <td>2011-12-01</td>\n",
       "      <td>33-17 PRINCE ST. 2ND FL</td>\n",
       "      <td>FLUSHING</td>\n",
       "      <td>EBENEZER MISSION CHURCH</td>\n",
       "      <td>11354.0</td>\n",
       "      <td>NY</td>\n",
       "      <td>Flushing</td>\n",
       "      <td>NY</td>\n",
       "      <td>10.97</td>\n",
       "      <td>File Clerk</td>\n",
       "      <td>43-4071.00</td>\n",
       "      <td>File Clerks</td>\n",
       "      <td>OES</td>\n",
       "      <td>hr</td>\n",
       "    </tr>\n",
       "    <tr>\n",
       "      <th>4</th>\n",
       "      <td>Certified</td>\n",
       "      <td>L-1</td>\n",
       "      <td>2012-01-26</td>\n",
       "      <td>1373 BROADWAY</td>\n",
       "      <td>ALBANY</td>\n",
       "      <td>ALBANY INTERNATIONAL CORP.</td>\n",
       "      <td>12204.0</td>\n",
       "      <td>NY</td>\n",
       "      <td>Albany</td>\n",
       "      <td>NY</td>\n",
       "      <td>94890</td>\n",
       "      <td>Sales &amp; Service Engineer</td>\n",
       "      <td>41-9031.00</td>\n",
       "      <td>Sales Engineers</td>\n",
       "      <td>OES</td>\n",
       "      <td>yr</td>\n",
       "    </tr>\n",
       "  </tbody>\n",
       "</table>\n",
       "</div>"
      ],
      "text/plain": [
       "  case_status class_of_admission decision_date          employer_address_1  \\\n",
       "0   Certified                J-1    2012-02-01           24 WEST 25 STREET   \n",
       "1      Denied                B-2    2011-12-21            200 BROAD STREET   \n",
       "2   Certified               H-1B    2011-12-01  1054 TECHNOLOGY PARK DRIVE   \n",
       "3   Certified                B-2    2011-12-01     33-17 PRINCE ST. 2ND FL   \n",
       "4   Certified                L-1    2012-01-26               1373 BROADWAY   \n",
       "\n",
       "  employer_city                employer_name employer_postal_code  \\\n",
       "0      NEW YORK             NETSOFT USA INC.              10010.0   \n",
       "1     CARLSTADT  PINNACLE ENVIRONEMNTAL CORP               7072.0   \n",
       "2    GLEN ALLEN   SCHNABEL ENGINEERING, INC.              23059.0   \n",
       "3      FLUSHING      EBENEZER MISSION CHURCH              11354.0   \n",
       "4        ALBANY   ALBANY INTERNATIONAL CORP.              12204.0   \n",
       "\n",
       "  employer_state job_info_work_city job_info_work_state pw_amount_9089  \\\n",
       "0             NY           New York                  NY          75629   \n",
       "1             NY           New York                  NY          37024   \n",
       "2             VA        Lutherville                  MD          47923   \n",
       "3             NY           Flushing                  NY          10.97   \n",
       "4             NY             Albany                  NY          94890   \n",
       "\n",
       "                           pw_job_title_9089 pw_soc_code  \\\n",
       "0  Computer Software Engineers, Applications  15-1031.00   \n",
       "1                           ASBESTOS HANDLER  47-4041.00   \n",
       "2                             Civil Engineer  17-2051.00   \n",
       "3                                 File Clerk  43-4071.00   \n",
       "4                   Sales & Service Engineer  41-9031.00   \n",
       "\n",
       "                                pw_soc_title pw_source_name_9089  \\\n",
       "0  Computer Software Engineers, Applications                 OES   \n",
       "1        Hazardous Materials Removal Workers                 OES   \n",
       "2                            Civil Engineers                 OES   \n",
       "3                                File Clerks                 OES   \n",
       "4                            Sales Engineers                 OES   \n",
       "\n",
       "  pw_unit_of_pay_9089  \n",
       "0                  yr  \n",
       "1                  yr  \n",
       "2                  yr  \n",
       "3                  hr  \n",
       "4                  yr  "
      ]
     },
     "execution_count": 1,
     "metadata": {},
     "output_type": "execute_result"
    }
   ],
   "source": [
    "import pandas as pd\n",
    "visas = pd.read_csv('C:\\\\Users\\\\usmanzafar\\\\Desktop\\\\refinedperm.csv')\n",
    "visas.head()"
   ]
  },
  {
   "cell_type": "code",
   "execution_count": 3,
   "metadata": {},
   "outputs": [
    {
     "data": {
      "text/plain": [
       "['case_status',\n",
       " 'class_of_admission',\n",
       " 'decision_date',\n",
       " 'employer_address_1',\n",
       " 'employer_city',\n",
       " 'employer_name',\n",
       " 'employer_postal_code',\n",
       " 'employer_state',\n",
       " 'job_info_work_city',\n",
       " 'job_info_work_state',\n",
       " 'pw_amount_9089',\n",
       " 'pw_job_title_9089',\n",
       " 'pw_soc_code',\n",
       " 'pw_soc_title',\n",
       " 'pw_source_name_9089',\n",
       " 'pw_unit_of_pay_9089']"
      ]
     },
     "execution_count": 3,
     "metadata": {},
     "output_type": "execute_result"
    }
   ],
   "source": [
    "list(visas) # printing the names of the columns in the dataframe"
   ]
  },
  {
   "cell_type": "code",
   "execution_count": 4,
   "metadata": {},
   "outputs": [
    {
     "data": {
      "text/html": [
       "<div>\n",
       "<style>\n",
       "    .dataframe thead tr:only-child th {\n",
       "        text-align: right;\n",
       "    }\n",
       "\n",
       "    .dataframe thead th {\n",
       "        text-align: left;\n",
       "    }\n",
       "\n",
       "    .dataframe tbody tr th {\n",
       "        vertical-align: top;\n",
       "    }\n",
       "</style>\n",
       "<table border=\"1\" class=\"dataframe\">\n",
       "  <thead>\n",
       "    <tr style=\"text-align: right;\">\n",
       "      <th></th>\n",
       "      <th>case_status</th>\n",
       "      <th>class_of_admission</th>\n",
       "      <th>decision_date</th>\n",
       "      <th>employer_address_1</th>\n",
       "      <th>employer_city</th>\n",
       "      <th>employer_name</th>\n",
       "      <th>employer_postal_code</th>\n",
       "      <th>employer_state</th>\n",
       "      <th>job_info_work_city</th>\n",
       "      <th>job_info_work_state</th>\n",
       "      <th>pw_amount_9089</th>\n",
       "      <th>pw_job_title_9089</th>\n",
       "      <th>pw_soc_code</th>\n",
       "      <th>pw_soc_title</th>\n",
       "      <th>pw_source_name_9089</th>\n",
       "      <th>pw_unit_of_pay_9089</th>\n",
       "    </tr>\n",
       "  </thead>\n",
       "  <tbody>\n",
       "    <tr>\n",
       "      <th>0</th>\n",
       "      <td>Certified</td>\n",
       "      <td>J-1</td>\n",
       "      <td>2012-02-01</td>\n",
       "      <td>24 WEST 25 STREET</td>\n",
       "      <td>NEW YORK</td>\n",
       "      <td>NETSOFT USA INC.</td>\n",
       "      <td>10010.0</td>\n",
       "      <td>NY</td>\n",
       "      <td>New York</td>\n",
       "      <td>NY</td>\n",
       "      <td>75629</td>\n",
       "      <td>Computer Software Engineers, Applications</td>\n",
       "      <td>15-1031.00</td>\n",
       "      <td>Computer Software Engineers, Applications</td>\n",
       "      <td>OES</td>\n",
       "      <td>yr</td>\n",
       "    </tr>\n",
       "    <tr>\n",
       "      <th>1</th>\n",
       "      <td>Denied</td>\n",
       "      <td>B-2</td>\n",
       "      <td>2011-12-21</td>\n",
       "      <td>200 BROAD STREET</td>\n",
       "      <td>CARLSTADT</td>\n",
       "      <td>PINNACLE ENVIRONEMNTAL CORP</td>\n",
       "      <td>7072.0</td>\n",
       "      <td>NY</td>\n",
       "      <td>New York</td>\n",
       "      <td>NY</td>\n",
       "      <td>37024</td>\n",
       "      <td>ASBESTOS HANDLER</td>\n",
       "      <td>47-4041.00</td>\n",
       "      <td>Hazardous Materials Removal Workers</td>\n",
       "      <td>OES</td>\n",
       "      <td>yr</td>\n",
       "    </tr>\n",
       "    <tr>\n",
       "      <th>2</th>\n",
       "      <td>Certified</td>\n",
       "      <td>H-1B</td>\n",
       "      <td>2011-12-01</td>\n",
       "      <td>1054 TECHNOLOGY PARK DRIVE</td>\n",
       "      <td>GLEN ALLEN</td>\n",
       "      <td>SCHNABEL ENGINEERING, INC.</td>\n",
       "      <td>23059.0</td>\n",
       "      <td>VA</td>\n",
       "      <td>Lutherville</td>\n",
       "      <td>MD</td>\n",
       "      <td>47923</td>\n",
       "      <td>Civil Engineer</td>\n",
       "      <td>17-2051.00</td>\n",
       "      <td>Civil Engineers</td>\n",
       "      <td>OES</td>\n",
       "      <td>yr</td>\n",
       "    </tr>\n",
       "    <tr>\n",
       "      <th>3</th>\n",
       "      <td>Certified</td>\n",
       "      <td>B-2</td>\n",
       "      <td>2011-12-01</td>\n",
       "      <td>33-17 PRINCE ST. 2ND FL</td>\n",
       "      <td>FLUSHING</td>\n",
       "      <td>EBENEZER MISSION CHURCH</td>\n",
       "      <td>11354.0</td>\n",
       "      <td>NY</td>\n",
       "      <td>Flushing</td>\n",
       "      <td>NY</td>\n",
       "      <td>10.97</td>\n",
       "      <td>File Clerk</td>\n",
       "      <td>43-4071.00</td>\n",
       "      <td>File Clerks</td>\n",
       "      <td>OES</td>\n",
       "      <td>hr</td>\n",
       "    </tr>\n",
       "    <tr>\n",
       "      <th>4</th>\n",
       "      <td>Certified</td>\n",
       "      <td>L-1</td>\n",
       "      <td>2012-01-26</td>\n",
       "      <td>1373 BROADWAY</td>\n",
       "      <td>ALBANY</td>\n",
       "      <td>ALBANY INTERNATIONAL CORP.</td>\n",
       "      <td>12204.0</td>\n",
       "      <td>NY</td>\n",
       "      <td>Albany</td>\n",
       "      <td>NY</td>\n",
       "      <td>94890</td>\n",
       "      <td>Sales &amp; Service Engineer</td>\n",
       "      <td>41-9031.00</td>\n",
       "      <td>Sales Engineers</td>\n",
       "      <td>OES</td>\n",
       "      <td>yr</td>\n",
       "    </tr>\n",
       "  </tbody>\n",
       "</table>\n",
       "</div>"
      ],
      "text/plain": [
       "  case_status class_of_admission decision_date          employer_address_1  \\\n",
       "0   Certified                J-1    2012-02-01           24 WEST 25 STREET   \n",
       "1      Denied                B-2    2011-12-21            200 BROAD STREET   \n",
       "2   Certified               H-1B    2011-12-01  1054 TECHNOLOGY PARK DRIVE   \n",
       "3   Certified                B-2    2011-12-01     33-17 PRINCE ST. 2ND FL   \n",
       "4   Certified                L-1    2012-01-26               1373 BROADWAY   \n",
       "\n",
       "  employer_city                employer_name employer_postal_code  \\\n",
       "0      NEW YORK             NETSOFT USA INC.              10010.0   \n",
       "1     CARLSTADT  PINNACLE ENVIRONEMNTAL CORP               7072.0   \n",
       "2    GLEN ALLEN   SCHNABEL ENGINEERING, INC.              23059.0   \n",
       "3      FLUSHING      EBENEZER MISSION CHURCH              11354.0   \n",
       "4        ALBANY   ALBANY INTERNATIONAL CORP.              12204.0   \n",
       "\n",
       "  employer_state job_info_work_city job_info_work_state pw_amount_9089  \\\n",
       "0             NY           New York                  NY          75629   \n",
       "1             NY           New York                  NY          37024   \n",
       "2             VA        Lutherville                  MD          47923   \n",
       "3             NY           Flushing                  NY          10.97   \n",
       "4             NY             Albany                  NY          94890   \n",
       "\n",
       "                           pw_job_title_9089 pw_soc_code  \\\n",
       "0  Computer Software Engineers, Applications  15-1031.00   \n",
       "1                           ASBESTOS HANDLER  47-4041.00   \n",
       "2                             Civil Engineer  17-2051.00   \n",
       "3                                 File Clerk  43-4071.00   \n",
       "4                   Sales & Service Engineer  41-9031.00   \n",
       "\n",
       "                                pw_soc_title pw_source_name_9089  \\\n",
       "0  Computer Software Engineers, Applications                 OES   \n",
       "1        Hazardous Materials Removal Workers                 OES   \n",
       "2                            Civil Engineers                 OES   \n",
       "3                                File Clerks                 OES   \n",
       "4                            Sales Engineers                 OES   \n",
       "\n",
       "  pw_unit_of_pay_9089  \n",
       "0                  yr  \n",
       "1                  yr  \n",
       "2                  yr  \n",
       "3                  hr  \n",
       "4                  yr  "
      ]
     },
     "execution_count": 4,
     "metadata": {},
     "output_type": "execute_result"
    }
   ],
   "source": [
    "visas.head()"
   ]
  },
  {
   "cell_type": "code",
   "execution_count": 6,
   "metadata": {},
   "outputs": [
    {
     "data": {
      "text/plain": [
       "array(['Certified', 'Denied', 'Certified-Expired', 'Withdrawn'], dtype=object)"
      ]
     },
     "execution_count": 6,
     "metadata": {},
     "output_type": "execute_result"
    }
   ],
   "source": [
    "visas['case_status'].unique()"
   ]
  },
  {
   "cell_type": "code",
   "execution_count": 13,
   "metadata": {
    "collapsed": true
   },
   "outputs": [],
   "source": [
    "visas=visas.head(10000) # Getting the first given rows"
   ]
  },
  {
   "cell_type": "code",
   "execution_count": 14,
   "metadata": {},
   "outputs": [
    {
     "data": {
      "text/plain": [
       "(10000, 16)"
      ]
     },
     "execution_count": 14,
     "metadata": {},
     "output_type": "execute_result"
    }
   ],
   "source": [
    "visas.shape"
   ]
  }
 ],
 "metadata": {
  "kernelspec": {
   "display_name": "Python 3",
   "language": "python",
   "name": "python3"
  },
  "language_info": {
   "codemirror_mode": {
    "name": "ipython",
    "version": 3
   },
   "file_extension": ".py",
   "mimetype": "text/x-python",
   "name": "python",
   "nbconvert_exporter": "python",
   "pygments_lexer": "ipython3",
   "version": "3.6.1"
  }
 },
 "nbformat": 4,
 "nbformat_minor": 2
}
